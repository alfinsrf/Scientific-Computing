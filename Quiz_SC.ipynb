{
  "nbformat": 4,
  "nbformat_minor": 0,
  "metadata": {
    "colab": {
      "provenance": [],
      "authorship_tag": "ABX9TyMWeczXSA8Ep8Ck1dAK0742"
    },
    "kernelspec": {
      "name": "python3",
      "display_name": "Python 3"
    },
    "language_info": {
      "name": "python"
    }
  },
  "cells": [
    {
      "cell_type": "code",
      "execution_count": null,
      "metadata": {
        "id": "AFCSYvp4L91s",
        "colab": {
          "base_uri": "https://localhost:8080/"
        },
        "outputId": "226602e3-dbf3-479b-fcdb-58293082018b"
      },
      "outputs": [
        {
          "output_type": "stream",
          "name": "stdout",
          "text": [
            "Not diagonally dominant\n",
            "1, 1.9412, -4.5735, 6.8151\n",
            "2, 4.2200, -2.3080, 3.9080\n",
            "3, 3.1739, -3.2096, 5.0053\n",
            "4, 3.5797, -2.8789, 4.6122\n",
            "5, 3.4325, -2.9958, 4.7495\n",
            "Not converge, increase the # of iterations\n",
            "[ 3.47089947 -2.96560847  4.71428571]\n"
          ]
        }
      ],
      "source": [
        "#Alfin Syaghaf Rifai - 2602181364\n",
        "#LA20\n",
        "\n",
        "#1.\n",
        "import numpy as np\n",
        "\n",
        "a = np.array([[17, 4, -3],\n",
        "              [-7, -8, 5],\n",
        "              [-3, 12, 7]])\n",
        "\n",
        "#find diagonal coefficients\n",
        "diag = np.diag(np.abs(a))\n",
        "\n",
        "#find row sum without diagonal\n",
        "off_diag = np.sum(np.abs(a), axis = 1) - diag\n",
        "\n",
        "if np.all (diag > off_diag):\n",
        "    print('matrix is diagonally dominant')\n",
        "else:\n",
        "    print('Not diagonally dominant')\n",
        "\n",
        "#for converge\n",
        "x1 = 0\n",
        "x2 = 0\n",
        "x3 = 0\n",
        "epsilon = 0.1\n",
        "converged = False\n",
        "\n",
        "x_old = np.array([x1, x2, x3])\n",
        "\n",
        "for k in range(1, 6):\n",
        "    x1 = (33-4*x2+3*x3) / 17\n",
        "    x2 = (23+7*x1-5*x3) / (-8)\n",
        "    x3 = (-13+3*x1-12*x2) / 7\n",
        "    x = np.array([x1, x2, x3])\n",
        "    #check if it is smaller than thresholdw\n",
        "    dx = np.sqrt(np.dot(x - x_old, x - x_old))\n",
        "\n",
        "    print(\"%d, %.4f, %.4f, %.4f\"%(k, x1, x2, x3))\n",
        "    if dx < epsilon:\n",
        "        converged = True\n",
        "        print('Converged!')\n",
        "        break\n",
        "\n",
        "    # assign the latest x value to the old value\n",
        "    x_old = x\n",
        "\n",
        "if not converged:\n",
        "    print('Not converge, increase the # of iterations')\n",
        "\n",
        "\n",
        "# for linear algebra\n",
        "b = np.array([33, 23, -13])\n",
        "\n",
        "c = np.linalg.solve(a, b)\n",
        "print(c)"
      ]
    }
  ]
}