{
  "nbformat": 4,
  "nbformat_minor": 0,
  "metadata": {
    "colab": {
      "provenance": [],
      "authorship_tag": "ABX9TyPOhdziz3aIzAYzw9KvKUzG"
    },
    "kernelspec": {
      "name": "python3",
      "display_name": "Python 3"
    },
    "language_info": {
      "name": "python"
    }
  },
  "cells": [
    {
      "cell_type": "code",
      "execution_count": null,
      "metadata": {
        "id": "9kdlvRJ88ipr"
      },
      "outputs": [],
      "source": [
        "import numpy as np"
      ]
    },
    {
      "cell_type": "markdown",
      "source": [
        "Bisection Method"
      ],
      "metadata": {
        "id": "3_Y4a-qHDxdL"
      }
    },
    {
      "cell_type": "code",
      "source": [
        "def my_bisection(f, a, b, tol):\n",
        "\n",
        "  if np.sign(f(a)) == np.sign(f(b)):\n",
        "      raise Exception(\"The scalars a and b do not bound a root\")\n",
        "\n",
        "  #get midpoint\n",
        "  m = (a + b) / 2\n",
        "\n",
        "  if np.abs(f(m)) < tol:\n",
        "      return m\n",
        "  elif np.sign(f(a)) == np.sign(f(m)):\n",
        "      return my_bisection(f, m, b, tol)\n",
        "  elif np.sign(f(b)) == np.sign(f(m)):\n",
        "      return my_bisection(f, a, m, tol)\n"
      ],
      "metadata": {
        "id": "vLbiG_sc8sjP"
      },
      "execution_count": null,
      "outputs": []
    },
    {
      "cell_type": "code",
      "source": [
        "f = lambda x: x**2 - 2\n",
        "r1 = my_bisection(f, 0, 2, 0.1)\n",
        "print(\"r1 =\", r1)\n",
        "r01 = my_bisection(f, 0, 2, 0.02)\n",
        "print(\"r01 = \", r01)\n",
        "print(\"f(r1) =\", f(r1))\n",
        "print(\"f(r01) =\", f(r01))"
      ],
      "metadata": {
        "colab": {
          "base_uri": "https://localhost:8080/"
        },
        "id": "SGW80XBR87im",
        "outputId": "91c90994-cb04-467b-b2dc-557d2a449952"
      },
      "execution_count": null,
      "outputs": [
        {
          "output_type": "stream",
          "name": "stdout",
          "text": [
            "r1 = 1.4375\n",
            "r01 =  1.4140625\n",
            "f(r1) = 0.06640625\n",
            "f(r01) = -0.00042724609375\n"
          ]
        }
      ]
    },
    {
      "cell_type": "markdown",
      "source": [
        "Newthon Raphson"
      ],
      "metadata": {
        "id": "4wawJOHBDznM"
      }
    },
    {
      "cell_type": "code",
      "source": [
        "f = lambda x: x**2 - 2\n",
        "f_prime = lambda x: 2*x\n",
        "newton_raphson = 1.4 - (f(1.4))/(f_prime(1.4))\n",
        "\n",
        "print(\"newton_raphson =\", newton_raphson)\n",
        "print(\"sqrt(2) =\", np.sqrt(2))"
      ],
      "metadata": {
        "colab": {
          "base_uri": "https://localhost:8080/"
        },
        "id": "fmzMLw_pD1mk",
        "outputId": "99eed39b-052e-47fa-effa-2c4f4c469240"
      },
      "execution_count": null,
      "outputs": [
        {
          "output_type": "stream",
          "name": "stdout",
          "text": [
            "newton_raphson = 1.4142857142857144\n",
            "sqrt(2) = 1.4142135623730951\n"
          ]
        }
      ]
    },
    {
      "cell_type": "code",
      "source": [
        "def my_newton(f, df, x0, tol):\n",
        "    if abs(f(x0)) < tol:\n",
        "        return x0\n",
        "    else:\n",
        "        return my_newton(f, df, x0 - f(x0)/df(x0), tol)"
      ],
      "metadata": {
        "id": "I-_ShMHTEWyD"
      },
      "execution_count": null,
      "outputs": []
    },
    {
      "cell_type": "code",
      "source": [
        "estimate = my_newton(f, f_prime, 1.5, 1e-6)\n",
        "print(\"estimate =\", estimate)\n",
        "print(\"sqrt(2) =\", np.sqrt(2))"
      ],
      "metadata": {
        "colab": {
          "base_uri": "https://localhost:8080/"
        },
        "id": "eLhGs0wkEozm",
        "outputId": "248ea2a8-ae9d-420b-e3be-93fa2b795b3a"
      },
      "execution_count": null,
      "outputs": [
        {
          "output_type": "stream",
          "name": "stdout",
          "text": [
            "estimate = 1.4142135623746899\n",
            "sqrt(2) = 1.4142135623730951\n"
          ]
        }
      ]
    },
    {
      "cell_type": "markdown",
      "source": [
        "Soal"
      ],
      "metadata": {
        "id": "jYHOGUwgFu8l"
      }
    },
    {
      "cell_type": "markdown",
      "source": [
        "Bisection"
      ],
      "metadata": {
        "id": "wbDnXS70Izcs"
      }
    },
    {
      "cell_type": "code",
      "source": [
        "#1\n",
        "f = lambda x: x**2 - 3*x + 1\n",
        "r1 = my_bisection(f, 0, 2, 0.1)\n",
        "print(\"r1 =\", r1)\n",
        "r01 = my_bisection(f, 0, 2, 0.02)\n",
        "print(\"r01 = \", r01)\n",
        "print(\"f(r1) =\", f(r1))\n",
        "print(\"f(r01) =\", f(r01))"
      ],
      "metadata": {
        "colab": {
          "base_uri": "https://localhost:8080/"
        },
        "id": "h_mbiW7pFwR_",
        "outputId": "1eaa3aa9-1165-4c91-f4a4-05fbe1553588"
      },
      "execution_count": null,
      "outputs": [
        {
          "output_type": "stream",
          "name": "stdout",
          "text": [
            "r1 = 0.375\n",
            "r01 =  0.375\n",
            "f(r1) = 0.015625\n",
            "f(r01) = 0.015625\n"
          ]
        }
      ]
    },
    {
      "cell_type": "code",
      "source": [
        "#2\n",
        "f = lambda x: 4*x**2 + 35*x - 12\n",
        "r1 = my_bisection(f, 0, 2, 0.1)\n",
        "print(\"r1 =\", r1)\n",
        "r01 = my_bisection(f, 0, 2, 0.02)\n",
        "print(\"r01 = \", r01)\n",
        "print(\"f(r1) =\", f(r1))\n",
        "print(\"f(r01) =\", f(r01))"
      ],
      "metadata": {
        "colab": {
          "base_uri": "https://localhost:8080/"
        },
        "id": "0Dex3sZ8HDhH",
        "outputId": "2a465894-dda0-43e3-e536-1467350ab4ed"
      },
      "execution_count": null,
      "outputs": [
        {
          "output_type": "stream",
          "name": "stdout",
          "text": [
            "r1 = 0.328125\n",
            "r01 =  0.330078125\n",
            "f(r1) = -0.0849609375\n",
            "f(r01) = -0.0114593505859375\n"
          ]
        }
      ]
    },
    {
      "cell_type": "code",
      "source": [
        "#3\n",
        "f = lambda x: 2*x**4 + 3*x**3 - x**2 + 7*x - 1\n",
        "r1 = my_bisection(f, 0, 2, 0.1)\n",
        "print(\"r1 =\", r1)\n",
        "r01 = my_bisection(f, 0, 2, 0.02)\n",
        "print(\"r01 = \", r01)\n",
        "print(\"f(r1) =\", f(r1))\n",
        "print(\"f(r01) =\", f(r01))"
      ],
      "metadata": {
        "colab": {
          "base_uri": "https://localhost:8080/"
        },
        "id": "ffD_5BzYHwM-",
        "outputId": "3f5a5f37-38b2-426f-9c79-1bd276e915f4"
      },
      "execution_count": null,
      "outputs": [
        {
          "output_type": "stream",
          "name": "stdout",
          "text": [
            "r1 = 0.15625\n",
            "r01 =  0.14453125\n",
            "f(r1) = 0.08197212219238281\n",
            "f(r01) = 0.0007596542127430439\n"
          ]
        }
      ]
    },
    {
      "cell_type": "code",
      "source": [
        "#4\n",
        "f = lambda x: 2*x**2 + 12*x - 18\n",
        "r1 = my_bisection(f, 0, 2, 0.1)\n",
        "print(\"r1 =\", r1)\n",
        "r01 = my_bisection(f, 0, 2, 0.02)\n",
        "print(\"r01 = \", r01)\n",
        "print(\"f(r1) =\", f(r1))\n",
        "print(\"f(r01) =\", f(r01))"
      ],
      "metadata": {
        "colab": {
          "base_uri": "https://localhost:8080/"
        },
        "id": "gx35TBoxIW2g",
        "outputId": "b0c35ffe-ccfc-4218-dc07-08ce568732d8"
      },
      "execution_count": null,
      "outputs": [
        {
          "output_type": "stream",
          "name": "stdout",
          "text": [
            "r1 = 1.2421875\n",
            "r01 =  1.2421875\n",
            "f(r1) = -0.0076904296875\n",
            "f(r01) = -0.0076904296875\n"
          ]
        }
      ]
    },
    {
      "cell_type": "markdown",
      "source": [
        "Newton-Raphson"
      ],
      "metadata": {
        "id": "ggWdbX3iI7SZ"
      }
    },
    {
      "cell_type": "code",
      "source": [
        "#1\n",
        "f = lambda x: x**2 - 3*x + 1\n",
        "f_prime = lambda x: 2*x - 3\n",
        "\n",
        "estimate = my_newton(f, f_prime, 0, 1e-6)\n",
        "print(\"estimate =\", estimate)"
      ],
      "metadata": {
        "colab": {
          "base_uri": "https://localhost:8080/"
        },
        "id": "QJmH1dr_I9n5",
        "outputId": "653fc670-0991-4a53-ba3d-595fc99b8ad1"
      },
      "execution_count": null,
      "outputs": [
        {
          "output_type": "stream",
          "name": "stdout",
          "text": [
            "estimate = 0.3819660112500109\n"
          ]
        }
      ]
    },
    {
      "cell_type": "code",
      "source": [
        "#2\n",
        "f = lambda x: 4*x**2 + 35*x - 12\n",
        "f_prime = lambda x: 8*x + 35\n",
        "\n",
        "estimate = my_newton(f, f_prime, 0, 1e-6)\n",
        "print(\"estimate =\", estimate)"
      ],
      "metadata": {
        "colab": {
          "base_uri": "https://localhost:8080/"
        },
        "id": "cKBiNNNBKMRO",
        "outputId": "34e14b5b-12b3-4048-a57b-13e071316c3d"
      },
      "execution_count": null,
      "outputs": [
        {
          "output_type": "stream",
          "name": "stdout",
          "text": [
            "estimate = 0.3303825597476619\n"
          ]
        }
      ]
    },
    {
      "cell_type": "code",
      "source": [
        "#3\n",
        "f = lambda x: 2*x**4 + 3*x**3 - x**2 + 7*x - 1\n",
        "f_prime = lambda x: 8*x**3 + 9*x**2 - 2*x + 7\n",
        "\n",
        "estimate = my_newton(f, f_prime, 0, 1e-6)\n",
        "print(\"estimate =\", estimate)"
      ],
      "metadata": {
        "colab": {
          "base_uri": "https://localhost:8080/"
        },
        "id": "2okynPeCMW_z",
        "outputId": "c3e3ee4d-d574-4ce8-de03-627d647e66df"
      },
      "execution_count": null,
      "outputs": [
        {
          "output_type": "stream",
          "name": "stdout",
          "text": [
            "estimate = 0.14442152148598594\n"
          ]
        }
      ]
    },
    {
      "cell_type": "code",
      "source": [
        "#4\n",
        "f = lambda x: 2*x**2 + 12*x - 18\n",
        "f_prime = lambda x: 4*x + 12\n",
        "\n",
        "estimate = my_newton(f, f_prime, 0, 1e-6)\n",
        "print(\"estimate =\", estimate)"
      ],
      "metadata": {
        "colab": {
          "base_uri": "https://localhost:8080/"
        },
        "id": "pOrwz2Q3MvMb",
        "outputId": "656ac610-cb9d-41f1-89e4-bd6065d4572e"
      },
      "execution_count": null,
      "outputs": [
        {
          "output_type": "stream",
          "name": "stdout",
          "text": [
            "estimate = 1.2426406871240696\n"
          ]
        }
      ]
    }
  ]
}