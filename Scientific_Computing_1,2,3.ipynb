{
  "nbformat": 4,
  "nbformat_minor": 0,
  "metadata": {
    "colab": {
      "provenance": [],
      "authorship_tag": "ABX9TyMCTJBvY4i2GMPcsxOvajX+"
    },
    "kernelspec": {
      "name": "python3",
      "display_name": "Python 3"
    },
    "language_info": {
      "name": "python"
    }
  },
  "cells": [
    {
      "cell_type": "code",
      "execution_count": null,
      "metadata": {
        "id": "3_zF6yKvVmzI"
      },
      "outputs": [],
      "source": [
        "a = 1"
      ]
    },
    {
      "cell_type": "code",
      "source": [
        "import time"
      ],
      "metadata": {
        "colab": {
          "base_uri": "https://localhost:8080/"
        },
        "id": "NSFGsfQfW-nb",
        "outputId": "eb04eee0-c7a4-491d-c1fb-eb2b22c6e218"
      },
      "execution_count": null,
      "outputs": [
        {
          "output_type": "execute_result",
          "data": {
            "text/plain": [
              "<module 'time' (built-in)>"
            ]
          },
          "metadata": {},
          "execution_count": 13
        }
      ]
    },
    {
      "cell_type": "code",
      "source": [
        "import numpy as np"
      ],
      "metadata": {
        "id": "8J6egvRnXklL"
      },
      "execution_count": null,
      "outputs": []
    },
    {
      "cell_type": "code",
      "source": [
        "x = np.array([1, 4, 3])\n",
        "x"
      ],
      "metadata": {
        "colab": {
          "base_uri": "https://localhost:8080/"
        },
        "id": "iYX387aabkTF",
        "outputId": "99097b11-5b16-49c3-b156-44abb2a67b67"
      },
      "execution_count": null,
      "outputs": [
        {
          "output_type": "execute_result",
          "data": {
            "text/plain": [
              "array([1, 4, 3])"
            ]
          },
          "metadata": {},
          "execution_count": 15
        }
      ]
    },
    {
      "cell_type": "code",
      "source": [
        "def my_adder(a, b, c):\n",
        "\n",
        "#this is the summation\n",
        "  out = a + b + c\n",
        "\n",
        "  return out"
      ],
      "metadata": {
        "id": "N8a0oCehcFGZ"
      },
      "execution_count": null,
      "outputs": []
    },
    {
      "cell_type": "code",
      "source": [
        "my_adder(1,2,3)"
      ],
      "metadata": {
        "colab": {
          "base_uri": "https://localhost:8080/"
        },
        "id": "vedhmgwIdqcs",
        "outputId": "95c2258d-9ced-4193-ddf8-fe922a2ce723"
      },
      "execution_count": null,
      "outputs": [
        {
          "output_type": "execute_result",
          "data": {
            "text/plain": [
              "6"
            ]
          },
          "metadata": {},
          "execution_count": 23
        }
      ]
    },
    {
      "cell_type": "code",
      "source": [
        "def my_thermo_stat(temp, desired_temp):\n",
        "  if temp < desired_temp - 5:\n",
        "    status = 'Heat'\n",
        "  elif temp > desired_temp + 5:\n",
        "    status = 'AC'\n",
        "  else:\n",
        "    status = 'Off'\n",
        "  return status"
      ],
      "metadata": {
        "id": "J4xiPJVDewDp"
      },
      "execution_count": null,
      "outputs": []
    },
    {
      "cell_type": "code",
      "source": [
        "x = 3\n",
        "y = 7\n",
        "z = 9\n",
        "\n",
        "A = 2 * x + 3 * x + 12\n",
        "B = 4 * x + 3 * x * y - 10 * y\n",
        "C = 12 * z + (3 * x * y * z * 16 * y) + 32\n",
        "D = 4 * z + 25 * y + 14 * x * y / 4\n",
        "E = 5 * y + 26 * z * x - 20 * x * y / 3\n",
        "F = ([3, 4, 5])\n",
        "G = np.array ([[2, 4],[6, 8]])\n",
        "\n",
        "print(\"\\n\", A,\"\\n\", B,\"\\n\", C,\"\\n\", D,\"\\n\", E,\"\\n\", F,\"\\n\",G)"
      ],
      "metadata": {
        "colab": {
          "base_uri": "https://localhost:8080/"
        },
        "id": "FU9NqWPLfTLM",
        "outputId": "4779796b-c506-4995-ff3e-04c4db481b70"
      },
      "execution_count": null,
      "outputs": [
        {
          "output_type": "stream",
          "name": "stdout",
          "text": [
            "\n",
            " 27 \n",
            " 5 \n",
            " 63644 \n",
            " 284.5 \n",
            " 597.0 \n",
            " [3, 4, 5] \n",
            " [[2 4]\n",
            " [6 8]]\n"
          ]
        }
      ]
    },
    {
      "cell_type": "code",
      "source": [
        "import numpy as np\n",
        "a = [[8, 3, -3], [-2, -8, 5], [3, 5, 10]]\n",
        "\n",
        "# find diagonal cefficients\n",
        "diag = np.diag(np.abs(a))\n",
        "\n",
        "#find row sum without diagonal\n",
        "off_diag = np.sum(np.abs(a), axis = 1) - diag\n",
        "\n",
        "if np.all (diag > off_diag) :\n",
        "    print(' matrix is diagonally dominant')\n",
        "else:\n",
        "    print('Not diagonally dominant')"
      ],
      "metadata": {
        "id": "bGkLTiMvhD4X",
        "colab": {
          "base_uri": "https://localhost:8080/"
        },
        "outputId": "5415404a-7b74-4ac9-b393-72bf9c4617b5"
      },
      "execution_count": null,
      "outputs": [
        {
          "output_type": "stream",
          "name": "stdout",
          "text": [
            " matrix is diagonally dominant\n"
          ]
        }
      ]
    },
    {
      "cell_type": "code",
      "source": [
        "x1 = 0\n",
        "x2 = 0\n",
        "x3 = 0\n",
        "epsilon = 0.001\n",
        "converged = False\n",
        "\n",
        "x_old = np.array([x1, x2, x3])\n",
        "\n",
        "print('Iteration results')\n",
        "print(' k,  x1,   x2,   x3 ')\n",
        "for k in range(1, 50):\n",
        "    x1 = (14-3*x2+3*x3) / 8\n",
        "    x2 = (5+2*x1-5*x3) / (-8)\n",
        "    x3 = (-8-3*x1-5*x2) / (10)\n",
        "    x = np.array([x1, x2, x3])\n",
        "    #check if it is smaller than threshold\n",
        "    dx = np.sqrt(np.dot(x-x_old, x-x_old))\n",
        "\n",
        "    print(\"%d, %.4f, %.4f, %.4f\"%(k, x1, x2, x3))\n",
        "    if dx < epsilon:\n",
        "      converged = True\n",
        "      print('Converged!')\n",
        "      break\n",
        "\n",
        "    #assign the latest x value to the old value\n",
        "    x_old = x\n",
        "\n",
        "if not converged:\n",
        "    print('Not converge, increase the # of iterations')\n"
      ],
      "metadata": {
        "colab": {
          "base_uri": "https://localhost:8080/"
        },
        "id": "7GQnJHe3dvba",
        "outputId": "e8d090c8-302e-4274-c097-5fea803e354f"
      },
      "execution_count": null,
      "outputs": [
        {
          "output_type": "stream",
          "name": "stdout",
          "text": [
            "Iteration results\n",
            " k,  x1,   x2,   x3 \n",
            "1, 1.7500, -1.0625, -0.7937\n",
            "2, 1.8508, -1.5838, -0.5633\n",
            "3, 2.1327, -1.5103, -0.6847\n",
            "4, 2.0596, -1.5678, -0.6340\n",
            "5, 2.1002, -1.5463, -0.6569\n",
            "6, 2.0835, -1.5565, -0.6468\n",
            "7, 2.0911, -1.5520, -0.6513\n",
            "8, 2.0878, -1.5540, -0.6493\n",
            "9, 2.0893, -1.5531, -0.6502\n",
            "10, 2.0886, -1.5535, -0.6498\n",
            "Converged!\n"
          ]
        }
      ]
    },
    {
      "cell_type": "code",
      "source": [
        "import numpy as np\n",
        "\n",
        "A = np.array([[4, 3, -5],\n",
        "             [-2, -4, 5],\n",
        "             [8, 8, 0]])\n",
        "\n",
        "y = np.array([2, 5, -3])\n",
        "\n",
        "x = np.linalg.solve(A, y)\n",
        "print(x)"
      ],
      "metadata": {
        "colab": {
          "base_uri": "https://localhost:8080/"
        },
        "id": "QtzD-9u9g8Xz",
        "outputId": "83068c01-adff-40da-eab1-ef3b0bdf51de"
      },
      "execution_count": null,
      "outputs": [
        {
          "output_type": "stream",
          "name": "stdout",
          "text": [
            "[ 2.20833333 -2.58333333 -0.18333333]\n"
          ]
        }
      ]
    },
    {
      "cell_type": "markdown",
      "source": [
        "Exercise session 2"
      ],
      "metadata": {
        "id": "4VKrqK0-kOOr"
      }
    },
    {
      "cell_type": "markdown",
      "source": [
        "Soal 1"
      ],
      "metadata": {
        "id": "HcP8GFUZmNxH"
      }
    },
    {
      "cell_type": "code",
      "source": [
        "# 1.\n",
        "import numpy as np\n",
        "\n",
        "a = np.array([[13, 5, -7],\n",
        "              [0, 1, 6],\n",
        "              [-2, 5, 4]])\n",
        "\n",
        "#find diagonal coefficients\n",
        "diag = np.diag(np.abs(a))\n",
        "\n",
        "#find row sum without diagonal\n",
        "off_diag = np.sum(np.abs(a), axis = 1) - diag\n",
        "\n",
        "if np.all (diag > off_diag):\n",
        "    print('matrix is diagonally dominant')\n",
        "else:\n",
        "    print('Not diagonally dominant')\n",
        "\n",
        "#for converge\n",
        "x1 = 0\n",
        "x2 = 0\n",
        "x3 = 0\n",
        "epsilon = 0.1\n",
        "converged = False\n",
        "\n",
        "x_old = np.array([x1, x2, x3])\n",
        "\n",
        "for k in range(1, 50):\n",
        "    x1 = (18-5*x2+7*x3) / 13\n",
        "    x2 = (16-0*x1-6*x3) / 1\n",
        "    x3 = (23+2*x1-5*x2) / 4\n",
        "    x = np.array([x1, x2, x3])\n",
        "    #check if it is smaller than thresholdw\n",
        "    dx = np.sqrt(np.dot(x - x_old, x - x_old))\n",
        "\n",
        "    if dx < epsilon:\n",
        "        converged = True\n",
        "        print('Converged!')\n",
        "        break\n",
        "\n",
        "    # assign the latest x value to the old value\n",
        "    x_old = x\n",
        "\n",
        "if not converged:\n",
        "    print('Not converge, increase the # of iterations')\n",
        "\n",
        "\n",
        "# for linear algebra\n",
        "b = np.array([18, 16, 23])\n",
        "\n",
        "c = np.linalg.solve(a, b)\n",
        "print(c)"
      ],
      "metadata": {
        "colab": {
          "base_uri": "https://localhost:8080/"
        },
        "id": "7KJXM5PEjabL",
        "outputId": "2ac2feca-fc4a-4968-93c4-8c9c60340f02"
      },
      "execution_count": null,
      "outputs": [
        {
          "output_type": "stream",
          "name": "stdout",
          "text": [
            "Not diagonally dominant\n",
            "Not converge, increase the # of iterations\n",
            "[1.20631068 3.40291262 2.09951456]\n"
          ]
        }
      ]
    },
    {
      "cell_type": "markdown",
      "source": [
        "Soal 2"
      ],
      "metadata": {
        "id": "l63iPvAnmQ61"
      }
    },
    {
      "cell_type": "code",
      "source": [
        "# 2.\n",
        "import numpy as np\n",
        "\n",
        "a = np.array([[-6, 3, 1],\n",
        "              [5, 7, 1],\n",
        "              [4, 6, -12]])\n",
        "\n",
        "#find diagonal coefficients\n",
        "diag = np.diag(np.abs(a))\n",
        "\n",
        "#find row sum without diagonal\n",
        "off_diag = np.sum(np.abs(a), axis = 1) - diag\n",
        "\n",
        "if np.all (diag > off_diag):\n",
        "    print('matrix is diagonally dominant')\n",
        "else:\n",
        "    print('Not diagonally dominant')\n",
        "\n",
        "#for converge\n",
        "x1 = 0\n",
        "x2 = 0\n",
        "x3 = 0\n",
        "epsilon = 0.03\n",
        "converged = False\n",
        "\n",
        "x_old = np.array([x1, x2, x3])\n",
        "\n",
        "for k in range(1, 50):\n",
        "    x1 = (6-3*x2+1*x3) / (-6)\n",
        "    x2 = (8-5*x1-1*x3) / 7\n",
        "    x3 = (4-4*x1-6*x2) / (-12)\n",
        "    x = np.array([x1, x2, x3])\n",
        "    #check if it is smaller than thresholdw\n",
        "    dx = np.sqrt(np.dot(x - x_old, x - x_old))\n",
        "\n",
        "    if dx < epsilon:\n",
        "        converged = True\n",
        "        print('Converged!')\n",
        "        break\n",
        "\n",
        "    # assign the latest x value to the old value\n",
        "    x_old = x\n",
        "\n",
        "if not converged:\n",
        "    print('Not converge, increase the # of iterations')\n",
        "\n",
        "\n",
        "# for linear algebra\n",
        "b = np.array([6, 8, 4])\n",
        "\n",
        "c = np.linalg.solve(a, b)\n",
        "print(c)"
      ],
      "metadata": {
        "colab": {
          "base_uri": "https://localhost:8080/"
        },
        "id": "i2CQqKtLkzU3",
        "outputId": "8fbef8d6-f321-4d0b-8366-4ded92d68972"
      },
      "execution_count": null,
      "outputs": [
        {
          "output_type": "stream",
          "name": "stdout",
          "text": [
            "matrix is diagonally dominant\n",
            "Converged!\n",
            "[-0.29972752  1.32425068  0.22888283]\n"
          ]
        }
      ]
    },
    {
      "cell_type": "markdown",
      "source": [
        "Soal 3"
      ],
      "metadata": {
        "id": "C9acsfw2s913"
      }
    },
    {
      "cell_type": "code",
      "source": [
        "# 3\n",
        "import numpy as np\n",
        "\n",
        "a = np.array([[-3, -5, -7],\n",
        "              [2, 6, -8],\n",
        "              [4, 5, 3]])\n",
        "\n",
        "#find diagonal coefficients\n",
        "diag = np.diag(np.abs(a))\n",
        "\n",
        "#find row sum without diagonal\n",
        "off_diag = np.sum(np.abs(a), axis = 1) - diag\n",
        "\n",
        "if np.all (diag > off_diag):\n",
        "    print('matrix is diagonally dominant')\n",
        "else:\n",
        "    print('Not diagonally dominant')\n",
        "\n",
        "#for converge\n",
        "x1 = 0\n",
        "x2 = 0\n",
        "x3 = 0\n",
        "epsilon = 0.001\n",
        "converged = False\n",
        "\n",
        "x_old = np.array([x1, x2, x3])\n",
        "\n",
        "for k in range(1, 50):\n",
        "    x1 = (11+5*x2+7*x3) / (-3)\n",
        "    x2 = (9-2*x1+8*x3) / 6\n",
        "    x3 = (6-4*x1-5*x2) / 3\n",
        "    x = np.array([x1, x2, x3])\n",
        "    #check if it is smaller than thresholdw\n",
        "    dx = np.sqrt(np.dot(x - x_old, x - x_old))\n",
        "\n",
        "    if dx < epsilon:\n",
        "        converged = True\n",
        "        print('Converged!')\n",
        "        break\n",
        "\n",
        "    # assign the latest x value to the old value\n",
        "    x_old = x\n",
        "\n",
        "if not converged:\n",
        "    print('Not converge, increase the # of iterations')\n",
        "\n",
        "\n",
        "# for linear algebra\n",
        "b = np.array([11, 9, 6])\n",
        "\n",
        "c = np.linalg.solve(a, b)\n",
        "print(c)"
      ],
      "metadata": {
        "colab": {
          "base_uri": "https://localhost:8080/"
        },
        "id": "dAvvW01ktB_s",
        "outputId": "933d4bb4-2aaf-4354-9777-506720fed3a2"
      },
      "execution_count": null,
      "outputs": [
        {
          "output_type": "stream",
          "name": "stdout",
          "text": [
            "Not diagonally dominant\n",
            "Not converge, increase the # of iterations\n",
            "[ 8.33333333 -4.16666667 -2.16666667]\n"
          ]
        }
      ]
    },
    {
      "cell_type": "markdown",
      "source": [
        "Soal 4"
      ],
      "metadata": {
        "id": "KvpXlWdPtpLp"
      }
    },
    {
      "cell_type": "code",
      "source": [
        "#4\n",
        "\n",
        "import numpy as np\n",
        "\n",
        "a = np.array([[8, 2, -4],\n",
        "              [0, 6, 1],\n",
        "              [5, 3, -10]])\n",
        "\n",
        "#find diagonal coefficients\n",
        "diag = np.diag(np.abs(a))\n",
        "\n",
        "#find row sum without diagonal\n",
        "off_diag = np.sum(np.abs(a), axis = 1) - diag\n",
        "\n",
        "if np.all (diag > off_diag):\n",
        "    print('matrix is diagonally dominant')\n",
        "else:\n",
        "    print('Not diagonally dominant')\n",
        "\n",
        "#for converge\n",
        "x1 = 0\n",
        "x2 = 0\n",
        "x3 = 0\n",
        "epsilon = 0.2\n",
        "converged = False\n",
        "\n",
        "x_old = np.array([x1, x2, x3])\n",
        "\n",
        "for k in range(1, 50):\n",
        "    x1 = (12-2*x2+4*x3) / 8\n",
        "    x2 = (7-0*x1-1*x3) / 6\n",
        "    x3 = (8-5*x1-3*x2) / (-10)\n",
        "    x = np.array([x1, x2, x3])\n",
        "    #check if it is smaller than thresholdw\n",
        "    dx = np.sqrt(np.dot(x - x_old, x - x_old))\n",
        "\n",
        "    if dx < epsilon:\n",
        "        converged = True\n",
        "        print('Converged!')\n",
        "        break\n",
        "\n",
        "    # assign the latest x value to the old value\n",
        "    x_old = x\n",
        "\n",
        "if not converged:\n",
        "    print('Not converge, increase the # of iterations')\n",
        "\n",
        "\n",
        "# for linear algebra\n",
        "b = np.array([12, 7, 8])\n",
        "\n",
        "c = np.linalg.solve(a, b)\n",
        "print(c)"
      ],
      "metadata": {
        "colab": {
          "base_uri": "https://localhost:8080/"
        },
        "id": "mSbIccwctvAD",
        "outputId": "be8e03c5-6d91-489a-9e26-ec4469587553"
      },
      "execution_count": null,
      "outputs": [
        {
          "output_type": "stream",
          "name": "stdout",
          "text": [
            "matrix is diagonally dominant\n",
            "Converged!\n",
            "[1.31550802 1.13368984 0.19786096]\n"
          ]
        }
      ]
    },
    {
      "cell_type": "markdown",
      "source": [
        "**Session 3**"
      ],
      "metadata": {
        "id": "uTkES6o4lVz7"
      }
    },
    {
      "cell_type": "markdown",
      "source": [
        "Power Method"
      ],
      "metadata": {
        "id": "MITZB5yDpcts"
      }
    },
    {
      "cell_type": "code",
      "source": [
        "import numpy as np\n",
        "def normalize(x):\n",
        "    fac = abs(x).max()\n",
        "    x_n = x / x.max()\n",
        "    return fac, x_n\n",
        "x = np.array([1, 1])\n",
        "a = np.array([[0, 2],\n",
        "             [2, 3]])\n",
        "for i in range(8):\n",
        "    x = np.dot(a, x)\n",
        "    lambda_1, x = normalize(x)\n",
        "\n",
        "print('Eigenvalue:', lambda_1)\n",
        "print('Eigenvector:', x)"
      ],
      "metadata": {
        "colab": {
          "base_uri": "https://localhost:8080/"
        },
        "id": "lR1rqA9HlZIi",
        "outputId": "976e616e-c895-4fe6-87a0-2f35eb953866"
      },
      "execution_count": null,
      "outputs": [
        {
          "output_type": "stream",
          "name": "stdout",
          "text": [
            "Eigenvalue: 3.999949137887188\n",
            "Eigenvector: [0.50000636 1.        ]\n"
          ]
        }
      ]
    },
    {
      "cell_type": "markdown",
      "source": [
        "Invers Power Method"
      ],
      "metadata": {
        "id": "KAJnQXMLpaBa"
      }
    },
    {
      "cell_type": "code",
      "source": [
        "from numpy.linalg import inv\n",
        "a_inv = inv(a)\n",
        "\n",
        "for i in range(8):\n",
        "    x = np.dot(a_inv, x)\n",
        "    lambda_1, x = normalize(x)\n",
        "\n",
        "print('Eigenvalue:', lambda_1)\n",
        "print('Eigenvector:', x)"
      ],
      "metadata": {
        "colab": {
          "base_uri": "https://localhost:8080/"
        },
        "id": "8rhaGOj1ll4n",
        "outputId": "61636459-f940-47dc-ad08-c17bed654724"
      },
      "execution_count": null,
      "outputs": [
        {
          "output_type": "stream",
          "name": "stdout",
          "text": [
            "Eigenvalue: 0.20000000000024853\n",
            "Eigenvector: [1. 1.]\n"
          ]
        }
      ]
    },
    {
      "cell_type": "markdown",
      "source": [
        "Calculate the eigenvalues and eigenvectors for matrix A"
      ],
      "metadata": {
        "id": "ZJDXl0YspTl5"
      }
    },
    {
      "cell_type": "code",
      "source": [
        "import numpy as np\n",
        "from numpy.linalg import eig\n",
        "a = np.array([[0, 2],\n",
        "              [2, 3]])\n",
        "w,v = eig(a)\n",
        "print('E-Value:', w)\n",
        "print('E-Vector:', v)"
      ],
      "metadata": {
        "colab": {
          "base_uri": "https://localhost:8080/"
        },
        "id": "Y7HdmoqkoCPi",
        "outputId": "b6559f71-4cbd-48b1-d98b-8d4e5d9988b4"
      },
      "execution_count": null,
      "outputs": [
        {
          "output_type": "stream",
          "name": "stdout",
          "text": [
            "E-Value: [-1.  4.]\n",
            "E-Vector: [[-0.89442719 -0.4472136 ]\n",
            " [ 0.4472136  -0.89442719]]\n"
          ]
        }
      ]
    },
    {
      "cell_type": "markdown",
      "source": [
        "Compute the eigenvalue and eigenvector for matrix A"
      ],
      "metadata": {
        "id": "HpdVEPd1o8Bi"
      }
    },
    {
      "cell_type": "code",
      "source": [
        "import numpy as np\n",
        "from numpy.linalg import eig\n",
        "a = np.array([[2, 2, 4],\n",
        "              [1, 3, 5],\n",
        "              [2, 3, 4]])\n",
        "w,v = eig(a)\n",
        "print('E-Value:', w)\n",
        "print('E-Vector', v)"
      ],
      "metadata": {
        "colab": {
          "base_uri": "https://localhost:8080/"
        },
        "id": "ngZSipjJojJ1",
        "outputId": "ebe8ffb9-7ca8-4d23-9141-e55daad9d253"
      },
      "execution_count": null,
      "outputs": [
        {
          "output_type": "stream",
          "name": "stdout",
          "text": [
            "E-Value: [ 8.80916362  0.92620912 -0.73537273]\n",
            "E-Vector [[-0.52799324 -0.77557092 -0.36272811]\n",
            " [-0.604391    0.62277013 -0.7103262 ]\n",
            " [-0.59660259 -0.10318482  0.60321224]]\n"
          ]
        }
      ]
    },
    {
      "cell_type": "markdown",
      "source": [
        "Exercise Session 3"
      ],
      "metadata": {
        "id": "e0iQEqagt7Ld"
      }
    },
    {
      "cell_type": "code",
      "source": [
        "from PIL import Image\n",
        "import numpy as np\n",
        "\n",
        "# Membaca gambar dan mengubahnya menjadi array NumPy\n",
        "img = Image.open('/content/sunsets girl.jpg').convert('L')\n",
        "img_array = np.array(img)\n",
        "\n",
        "# Mengubah ukuran matriks menjadi 9 x 9\n",
        "img_resized = Image.fromarray(img_array).resize((9, 9))\n",
        "img_resized_array = np.array(img_resized)\n",
        "\n",
        "# Mencetak bentuk matriks\n",
        "print('Bentuk matriks:', img_resized_array.shape)\n",
        "\n",
        "# Menampilkan matriks\n",
        "print('Matriks:')\n",
        "print(img_resized_array)"
      ],
      "metadata": {
        "colab": {
          "base_uri": "https://localhost:8080/"
        },
        "id": "Fb5k1EMht-Ra",
        "outputId": "f71cc72a-557e-4b1d-a467-35b519265e4f"
      },
      "execution_count": null,
      "outputs": [
        {
          "output_type": "stream",
          "name": "stdout",
          "text": [
            "Bentuk matriks: (9, 9)\n",
            "Matriks:\n",
            "[[16 16 17 17 16 17 16 17 17]\n",
            " [19 19 20 21 22 23 33 26 22]\n",
            " [20 23 27 30 29 53 65 29 21]\n",
            " [34 39 47 48 42 48 38 28 18]\n",
            " [38 63 84 87 77 65 52 35 25]\n",
            " [14 19 33 47 50 50 44 34 28]\n",
            " [14 14 15 22 19 25 28 23 21]\n",
            " [ 4  4  6 11  6 10 12  6  5]\n",
            " [ 4  5  5  6  7  4  4  4  3]]\n"
          ]
        }
      ]
    },
    {
      "cell_type": "code",
      "source": [
        "import numpy as np"
      ],
      "metadata": {
        "id": "ty3oRc_5wZhw"
      },
      "execution_count": null,
      "outputs": []
    },
    {
      "cell_type": "code",
      "source": [
        "def normalize(x):\n",
        "    fac = abs(x).max()\n",
        "    x_n = x / x.max()\n",
        "    return fac, x_n"
      ],
      "metadata": {
        "id": "iVRZaG6Ewb1i"
      },
      "execution_count": null,
      "outputs": []
    },
    {
      "cell_type": "markdown",
      "source": [
        "Method 1"
      ],
      "metadata": {
        "id": "SzOmPzh195ZI"
      }
    },
    {
      "cell_type": "markdown",
      "source": [
        "matrix 1 kiri atas"
      ],
      "metadata": {
        "id": "bNjnkWVwEsam"
      }
    },
    {
      "cell_type": "code",
      "source": [
        "x = np.array([1, 1, 1])\n",
        "a = np.array([[16, 16, 17], [19, 19, 20], [20, 23, 27]])\n",
        "\n",
        "for i in range(40):\n",
        "  x = np.dot(a, x)\n",
        "  labda_1, x = normalize(x)\n",
        "\n",
        "print('Eigenvalue:', lambda_1)\n",
        "print('Eigenvector:', x)"
      ],
      "metadata": {
        "colab": {
          "base_uri": "https://localhost:8080/"
        },
        "id": "9RiAS4g5wt6j",
        "outputId": "18b49cec-5fb6-4a25-c945-1a31092f5705"
      },
      "execution_count": null,
      "outputs": [
        {
          "output_type": "stream",
          "name": "stdout",
          "text": [
            "Eigenvalue: 1.2575842679194156\n",
            "Eigenvector: [0.68989705 0.8161051  1.        ]\n"
          ]
        }
      ]
    },
    {
      "cell_type": "markdown",
      "source": [
        "matrix 2 tengah atas"
      ],
      "metadata": {
        "id": "1-VBOP9-Exvc"
      }
    },
    {
      "cell_type": "code",
      "source": [
        "x = np.array([1,1,1])\n",
        "a = np.array([[17, 16, 17], [21, 22, 23], [30, 29, 53]])\n",
        "\n",
        "for i in range(20):\n",
        "  x = np.dot(a, x)\n",
        "  labda_1, x = normalize(x)\n",
        "\n",
        "print('Eigenvalue:', lambda_1)\n",
        "print('Eigenvector:', x)"
      ],
      "metadata": {
        "colab": {
          "base_uri": "https://localhost:8080/"
        },
        "id": "2NShBIuTE1ns",
        "outputId": "e378d4b9-7e74-4cba-bbe2-35aa03e2a3fd"
      },
      "execution_count": null,
      "outputs": [
        {
          "output_type": "stream",
          "name": "stdout",
          "text": [
            "Eigenvalue: 1.2575842679194156\n",
            "Eigenvector: [0.40211889 0.53641585 1.        ]\n"
          ]
        }
      ]
    },
    {
      "cell_type": "markdown",
      "source": [
        "matrix 3 kanan atas"
      ],
      "metadata": {
        "id": "J9l8wF_BFB9Y"
      }
    },
    {
      "cell_type": "code",
      "source": [
        "x = np.array([1,1,1])\n",
        "a = np.array([[16, 17, 17], [33, 26, 22], [65, 29, 21]])\n",
        "\n",
        "for i in range(20):\n",
        "  x = np.dot(a, x)\n",
        "  labda_1, x = normalize(x)\n",
        "\n",
        "print('Eigenvalue:', lambda_1)\n",
        "print('Eigenvector:', x)"
      ],
      "metadata": {
        "colab": {
          "base_uri": "https://localhost:8080/"
        },
        "id": "vuOjN6onFEDX",
        "outputId": "9e2cccbc-b754-4f25-a5e5-eb4320fda718"
      },
      "execution_count": null,
      "outputs": [
        {
          "output_type": "stream",
          "name": "stdout",
          "text": [
            "Eigenvalue: 1.2575842679194156\n",
            "Eigenvector: [0.50192863 0.77135523 1.        ]\n"
          ]
        }
      ]
    },
    {
      "cell_type": "markdown",
      "source": [
        "matrix 4 tengah kiri"
      ],
      "metadata": {
        "id": "gkBvcZ8aFWZ1"
      }
    },
    {
      "cell_type": "code",
      "source": [
        "x = np.array([1,1,1])\n",
        "a = np.array([[34, 39, 47], [38, 63, 84], [14, 19, 33]])\n",
        "\n",
        "for i in range(20):\n",
        "  x = np.dot(a, x)\n",
        "  labda_1, x = normalize(x)\n",
        "\n",
        "print('Eigenvalue:', lambda_1)\n",
        "print('Eigenvector:', x)"
      ],
      "metadata": {
        "colab": {
          "base_uri": "https://localhost:8080/"
        },
        "id": "EvvdGpu5FYC5",
        "outputId": "d44c2d01-baf2-4e3f-8283-3fe51223c783"
      },
      "execution_count": null,
      "outputs": [
        {
          "output_type": "stream",
          "name": "stdout",
          "text": [
            "Eigenvalue: 1.2575842679194156\n",
            "Eigenvector: [0.66419661 1.         0.33827948]\n"
          ]
        }
      ]
    },
    {
      "cell_type": "markdown",
      "source": [
        "matrix 5 tengah"
      ],
      "metadata": {
        "id": "Jnhvo9_mFka6"
      }
    },
    {
      "cell_type": "code",
      "source": [
        "x = np.array([1,1,1])\n",
        "a = np.array([[48, 42, 48], [87, 77, 65], [47, 50, 50]])\n",
        "\n",
        "for i in range(20):\n",
        "  x = np.dot(a, x)\n",
        "  labda_1, x = normalize(x)\n",
        "\n",
        "print('Eigenvalue:', lambda_1)\n",
        "print('Eigenvector:', x)"
      ],
      "metadata": {
        "colab": {
          "base_uri": "https://localhost:8080/"
        },
        "id": "ygxPtf5FFmSg",
        "outputId": "b2939857-4ca5-4deb-e36d-5e79bef1dddc"
      },
      "execution_count": null,
      "outputs": [
        {
          "output_type": "stream",
          "name": "stdout",
          "text": [
            "Eigenvalue: 1.2575842679194156\n",
            "Eigenvector: [0.59480759 1.         0.64574827]\n"
          ]
        }
      ]
    },
    {
      "cell_type": "markdown",
      "source": [
        "matrix 6 tengah kanan"
      ],
      "metadata": {
        "id": "WuSqaqm2FvB1"
      }
    },
    {
      "cell_type": "code",
      "source": [
        "x = np.array([1,1,1])\n",
        "a = np.array([[38, 28, 18], [52, 35, 25], [44, 34, 28]])\n",
        "\n",
        "for i in range(20):\n",
        "  x = np.dot(a, x)\n",
        "  labda_1, x = normalize(x)\n",
        "\n",
        "print('Eigenvalue:', lambda_1)\n",
        "print('Eigenvector:', x)"
      ],
      "metadata": {
        "colab": {
          "base_uri": "https://localhost:8080/"
        },
        "id": "Us-QCzydFyFA",
        "outputId": "d22f27cb-2216-45f3-b789-9612e3954eac"
      },
      "execution_count": null,
      "outputs": [
        {
          "output_type": "stream",
          "name": "stdout",
          "text": [
            "Eigenvalue: 1.2575842679194156\n",
            "Eigenvector: [0.75284315 1.         0.95769549]\n"
          ]
        }
      ]
    },
    {
      "cell_type": "markdown",
      "source": [
        "matrix 7 bawah kiri"
      ],
      "metadata": {
        "id": "dhKveUe0F_L3"
      }
    },
    {
      "cell_type": "code",
      "source": [
        "x = np.array([1,1,1])\n",
        "a = np.array([[14, 14, 15], [4, 4, 6], [4, 5, 5]])\n",
        "\n",
        "for i in range(20):\n",
        "  x = np.dot(a, x)\n",
        "  labda_1, x = normalize(x)\n",
        "\n",
        "print('Eigenvalue:', lambda_1)\n",
        "print('Eigenvector:', x)"
      ],
      "metadata": {
        "colab": {
          "base_uri": "https://localhost:8080/"
        },
        "id": "_AUTEgYUGBav",
        "outputId": "d1dcfcb9-dfca-4726-a141-1c81c699b4c0"
      },
      "execution_count": null,
      "outputs": [
        {
          "output_type": "stream",
          "name": "stdout",
          "text": [
            "Eigenvalue: 1.2575842679194156\n",
            "Eigenvector: [1.         0.30877418 0.30877418]\n"
          ]
        }
      ]
    },
    {
      "cell_type": "markdown",
      "source": [
        "matrix 8 bawah tengah"
      ],
      "metadata": {
        "id": "08g6Dbi3GIfo"
      }
    },
    {
      "cell_type": "code",
      "source": [
        "x = np.array([1,1,1])\n",
        "a = np.array([[22, 19, 25], [11, 6, 10], [6, 7, 4]])\n",
        "\n",
        "for i in range(20):\n",
        "  x = np.dot(a, x)\n",
        "  labda_1, x = normalize(x)\n",
        "\n",
        "print('Eigenvalue:', lambda_1)\n",
        "print('Eigenvector:', x)"
      ],
      "metadata": {
        "colab": {
          "base_uri": "https://localhost:8080/"
        },
        "id": "OZYlOr8CGK3Y",
        "outputId": "abb7fca4-08d7-4a36-d565-53587622e88f"
      },
      "execution_count": null,
      "outputs": [
        {
          "output_type": "stream",
          "name": "stdout",
          "text": [
            "Eigenvalue: 1.2575842679194156\n",
            "Eigenvector: [1.         0.4402042  0.27352128]\n"
          ]
        }
      ]
    },
    {
      "cell_type": "markdown",
      "source": [
        "matrix 9 bawah kanan"
      ],
      "metadata": {
        "id": "BbVwNOIaGSnc"
      }
    },
    {
      "cell_type": "code",
      "source": [
        "x = np.array([1,1,1])\n",
        "a = np.array([[28, 23, 21], [12, 6, 5], [4, 4, 3]])\n",
        "\n",
        "for i in range(20):\n",
        "  x = np.dot(a, x)\n",
        "  labda_1, x = normalize(x)\n",
        "\n",
        "print('Eigenvalue:', lambda_1)\n",
        "print('Eigenvector:', x)"
      ],
      "metadata": {
        "colab": {
          "base_uri": "https://localhost:8080/"
        },
        "id": "BK3SbSiLGUyI",
        "outputId": "a4bf1fcf-50fd-46af-8cb0-0356a9b32cf9"
      },
      "execution_count": null,
      "outputs": [
        {
          "output_type": "stream",
          "name": "stdout",
          "text": [
            "Eigenvalue: 1.2575842679194156\n",
            "Eigenvector: [1.         0.37701385 0.14962109]\n"
          ]
        }
      ]
    },
    {
      "cell_type": "markdown",
      "source": [
        "Method 2"
      ],
      "metadata": {
        "id": "ucTPXQHY-dco"
      }
    },
    {
      "cell_type": "markdown",
      "source": [
        "matrix 1 kiri atas"
      ],
      "metadata": {
        "id": "jZXH_mj-_6Ie"
      }
    },
    {
      "cell_type": "code",
      "source": [
        "from numpy.linalg import inv\n",
        "a = np.array([[16, 16, 17], [19, 19, 20], [20, 23, 27]])\n",
        "a_inv = inv(a)\n",
        "\n",
        "for i in range(20):\n",
        "    x = np.dot(a_inv, x)\n",
        "    lambda_1, x = normalize(x)\n",
        "\n",
        "print('Eigenvalue:', lambda_1)\n",
        "print('Eigenvector:', x)"
      ],
      "metadata": {
        "colab": {
          "base_uri": "https://localhost:8080/"
        },
        "id": "O_IEeZjE-fDB",
        "outputId": "d3a70912-e711-41ea-c317-9f6df1df3f6c"
      },
      "execution_count": null,
      "outputs": [
        {
          "output_type": "stream",
          "name": "stdout",
          "text": [
            "Eigenvalue: 15.671996732789667\n",
            "Eigenvector: [-0.44789296  1.         -0.52131128]\n"
          ]
        }
      ]
    },
    {
      "cell_type": "markdown",
      "source": [
        "matrix 2 atas tengah"
      ],
      "metadata": {
        "id": "x7g2UyatADJ4"
      }
    },
    {
      "cell_type": "code",
      "source": [
        "from numpy.linalg import inv\n",
        "a = np.array([[17, 16, 17], [21, 22, 23], [30, 29, 53]])\n",
        "a_inv = inv(a)\n",
        "\n",
        "for i in range(20):\n",
        "    x = np.dot(a_inv, x)\n",
        "    lambda_1, x = normalize(x)\n",
        "\n",
        "print('Eigenvalue:', lambda_1)\n",
        "print('Eigenvector:', x)"
      ],
      "metadata": {
        "colab": {
          "base_uri": "https://localhost:8080/"
        },
        "id": "jCFaBdM5AFJT",
        "outputId": "e80828ef-10dd-49cc-9e97-287145eb8e32"
      },
      "execution_count": null,
      "outputs": [
        {
          "output_type": "stream",
          "name": "stdout",
          "text": [
            "Eigenvalue: 1.040007312036975\n",
            "Eigenvector: [-1.05534897  1.          0.05117739]\n"
          ]
        }
      ]
    },
    {
      "cell_type": "markdown",
      "source": [
        "matrix 3 kanan atas"
      ],
      "metadata": {
        "id": "bSZSzpfkAofx"
      }
    },
    {
      "cell_type": "code",
      "source": [
        "from numpy.linalg import inv\n",
        "a = np.array([[16, 17, 17], [33, 26, 22], [65, 29, 21]])\n",
        "a_inv = inv(a)\n",
        "\n",
        "for i in range(20):\n",
        "    x = np.dot(a_inv, x)\n",
        "    lambda_1, x = normalize(x)\n",
        "\n",
        "print('Eigenvalue:', lambda_1)\n",
        "print('Eigenvector:', x)"
      ],
      "metadata": {
        "colab": {
          "base_uri": "https://localhost:8080/"
        },
        "id": "BkWCAVV9Aqpy",
        "outputId": "475f40b8-71f4-4821-c7e4-f45d000cc1c3"
      },
      "execution_count": null,
      "outputs": [
        {
          "output_type": "stream",
          "name": "stdout",
          "text": [
            "Eigenvalue: 0.7733555262615098\n",
            "Eigenvector: [-0.19380234  1.         -0.83233894]\n"
          ]
        }
      ]
    },
    {
      "cell_type": "markdown",
      "source": [
        "matrix 4 tengah kiri"
      ],
      "metadata": {
        "id": "jXT5flt7A67K"
      }
    },
    {
      "cell_type": "code",
      "source": [
        "from numpy.linalg import inv\n",
        "a = np.array([[34, 39, 47], [38, 63, 84], [14, 19, 33]])\n",
        "a_inv = inv(a)\n",
        "\n",
        "for i in range(20):\n",
        "    x = np.dot(a_inv, x)\n",
        "    lambda_1, x = normalize(x)\n",
        "\n",
        "print('Eigenvalue:', lambda_1)\n",
        "print('Eigenvector:', x)"
      ],
      "metadata": {
        "colab": {
          "base_uri": "https://localhost:8080/"
        },
        "id": "xPeoE8ftA-LD",
        "outputId": "16d50950-18a0-43c8-940c-b8914a270952"
      },
      "execution_count": null,
      "outputs": [
        {
          "output_type": "stream",
          "name": "stdout",
          "text": [
            "Eigenvalue: 0.17534244804455992\n",
            "Eigenvector: [-0.74470201  1.         -0.34521665]\n"
          ]
        }
      ]
    },
    {
      "cell_type": "markdown",
      "source": [
        "matrix 5 tengah"
      ],
      "metadata": {
        "id": "34esyplQBNYy"
      }
    },
    {
      "cell_type": "code",
      "source": [
        "from numpy.linalg import inv\n",
        "a = np.array([[48, 42, 48], [87, 77, 65], [47, 50, 50]])\n",
        "a_inv = inv(a)\n",
        "\n",
        "for i in range(20):\n",
        "    x = np.dot(a_inv, x)\n",
        "    lambda_1, x = normalize(x)\n",
        "\n",
        "print('Eigenvalue:', lambda_1)\n",
        "print('Eigenvector:', x)"
      ],
      "metadata": {
        "colab": {
          "base_uri": "https://localhost:8080/"
        },
        "id": "pLUNiE6bBPYv",
        "outputId": "5eea7a34-84ca-49ef-895a-a6ab74253b3b"
      },
      "execution_count": null,
      "outputs": [
        {
          "output_type": "stream",
          "name": "stdout",
          "text": [
            "Eigenvalue: 0.2818332879215455\n",
            "Eigenvector: [-0.43343427  1.         -0.54989264]\n"
          ]
        }
      ]
    },
    {
      "cell_type": "markdown",
      "source": [
        "matrix 6 tengah kanan"
      ],
      "metadata": {
        "id": "frV8SE3mBq9h"
      }
    },
    {
      "cell_type": "code",
      "source": [
        "from numpy.linalg import inv\n",
        "a = np.array([[38, 28, 18], [52, 35, 25], [44, 34, 28]])\n",
        "a_inv = inv(a)\n",
        "\n",
        "for i in range(20):\n",
        "    x = np.dot(a_inv, x)\n",
        "    lambda_1, x = normalize(x)\n",
        "\n",
        "print('Eigenvalue:', lambda_1)\n",
        "print('Eigenvector:', x)"
      ],
      "metadata": {
        "colab": {
          "base_uri": "https://localhost:8080/"
        },
        "id": "RZ33k7NIBthv",
        "outputId": "0dba4768-04e8-46e6-836d-fe8dfc377813"
      },
      "execution_count": null,
      "outputs": [
        {
          "output_type": "stream",
          "name": "stdout",
          "text": [
            "Eigenvalue: 0.9189829544497005\n",
            "Eigenvector: [-0.5604243   1.         -0.31198429]\n"
          ]
        }
      ]
    },
    {
      "cell_type": "markdown",
      "source": [
        "matrix 7 kiri bawah"
      ],
      "metadata": {
        "id": "E1NWVDcJCA_h"
      }
    },
    {
      "cell_type": "code",
      "source": [
        "from numpy.linalg import inv\n",
        "a = np.array([[14, 14, 15], [4, 4, 6], [4, 5, 5]])\n",
        "a_inv = inv(a)\n",
        "\n",
        "for i in range(20):\n",
        "    x = np.dot(a_inv, x)\n",
        "    lambda_1, x = normalize(x)\n",
        "\n",
        "print('Eigenvalue:', lambda_1)\n",
        "print('Eigenvector:', x)"
      ],
      "metadata": {
        "colab": {
          "base_uri": "https://localhost:8080/"
        },
        "id": "cisMJD1RCDLT",
        "outputId": "38166fd9-8036-4f1c-c02a-40039efeb187"
      },
      "execution_count": null,
      "outputs": [
        {
          "output_type": "stream",
          "name": "stdout",
          "text": [
            "Eigenvalue: 1.4990320054819959\n",
            "Eigenvector: [-0.45878828  1.         -0.49954994]\n"
          ]
        }
      ]
    },
    {
      "cell_type": "markdown",
      "source": [
        "matrix 8 bawah tengah"
      ],
      "metadata": {
        "id": "m6xBCxDOCO6U"
      }
    },
    {
      "cell_type": "code",
      "source": [
        "from numpy.linalg import inv\n",
        "a = np.array([[22, 19, 25], [11, 6, 10], [6, 7, 4]])\n",
        "a_inv = inv(a)\n",
        "\n",
        "for i in range(20):\n",
        "    x = np.dot(a_inv, x)\n",
        "    lambda_1, x = normalize(x)\n",
        "\n",
        "print('Eigenvalue:', lambda_1)\n",
        "print('Eigenvector:', x)"
      ],
      "metadata": {
        "colab": {
          "base_uri": "https://localhost:8080/"
        },
        "id": "KVFCmdtYCRC4",
        "outputId": "feb5aae3-1151-4908-ef40-0a52a7328d4a"
      },
      "execution_count": null,
      "outputs": [
        {
          "output_type": "stream",
          "name": "stdout",
          "text": [
            "Eigenvalue: 0.37153513093329743\n",
            "Eigenvector: [ 0.79582543 -2.15774068  1.        ]\n"
          ]
        }
      ]
    },
    {
      "cell_type": "markdown",
      "source": [
        "matrix 9 bawah kanan"
      ],
      "metadata": {
        "id": "mBFFtzHDCdhp"
      }
    },
    {
      "cell_type": "code",
      "source": [
        "from numpy.linalg import inv\n",
        "a = np.array([[28, 23, 21], [12, 6, 5], [4, 4, 3]])\n",
        "a_inv = inv(a)\n",
        "\n",
        "for i in range(20):\n",
        "    x = np.dot(a_inv, x)\n",
        "    lambda_1, x = normalize(x)\n",
        "\n",
        "print('Eigenvalue:', lambda_1)\n",
        "print('Eigenvector:', x)"
      ],
      "metadata": {
        "colab": {
          "base_uri": "https://localhost:8080/"
        },
        "id": "MyHxajeWChWL",
        "outputId": "f705acee-2def-4dff-a92b-67473a870aab"
      },
      "execution_count": null,
      "outputs": [
        {
          "output_type": "stream",
          "name": "stdout",
          "text": [
            "Eigenvalue: 1.2575842679194156\n",
            "Eigenvector: [-0.39538021  1.         -0.54110128]\n"
          ]
        }
      ]
    }
  ]
}