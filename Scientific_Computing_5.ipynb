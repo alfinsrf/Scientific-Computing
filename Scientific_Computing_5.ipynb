{
  "nbformat": 4,
  "nbformat_minor": 0,
  "metadata": {
    "colab": {
      "provenance": [],
      "authorship_tag": "ABX9TyPKXjmHm6LD/H/MhqSPUxaJ"
    },
    "kernelspec": {
      "name": "python3",
      "display_name": "Python 3"
    },
    "language_info": {
      "name": "python"
    }
  },
  "cells": [
    {
      "cell_type": "code",
      "execution_count": null,
      "metadata": {
        "id": "eL049PhrJE2c"
      },
      "outputs": [],
      "source": [
        "import numpy as np\n"
      ]
    },
    {
      "cell_type": "code",
      "source": [
        "#Example\n",
        "\n",
        "# Data Points\n",
        "X = np.array([2.36, 2.37, 2.38, 2.39])\n",
        "F = np.array([0.85866, 0.86289, 0.86710, 0.87109])\n",
        "\n",
        "# Step size\n",
        "h = X[1] - X[0]\n",
        "\n",
        "# First derivative (f')\n",
        "x = 2.36\n",
        "index = np.where(X == x)[0][0]\n",
        "f_prime = (-3*F[index] + 4*F[index+1] - F[index+2]) / (2*h)\n",
        "\n",
        "# Second derivative (f\")\n",
        "f_double_prime = (F[index] - 2*F[index+1] + F[index+2]) / (h**2)\n",
        "\n",
        "# Result\n",
        "print(\"First derivative at x=2.36:\", f_prime)\n",
        "print(\"Second derivate at x = 2.36:\", f_double_prime)"
      ],
      "metadata": {
        "colab": {
          "base_uri": "https://localhost:8080/"
        },
        "id": "aEewpYOrJG94",
        "outputId": "06379cc0-dd46-4a5a-aca1-ca17d748186d"
      },
      "execution_count": null,
      "outputs": [
        {
          "output_type": "stream",
          "name": "stdout",
          "text": [
            "First derivative at x=2.36: 0.4240000000000035\n",
            "Second derivate at x = 2.36: -0.20000000000130103\n"
          ]
        }
      ]
    },
    {
      "cell_type": "code",
      "source": [
        "import numpy as np\n",
        "#1\n",
        "\n",
        "# Data Points\n",
        "X = np.array([-1, -0.9, -0.8, -0.7, -0.6])\n",
        "F = np.array([-0.63212, -0.49343, -0.35067, -0.20341, -0.05119])\n",
        "\n",
        "# Step size\n",
        "h = X[1] - X[0]\n",
        "\n",
        "# Second derivative (f\")\n",
        "x = -1\n",
        "index = np.where(X == x)[0][0]\n",
        "f_double_prime = (2*F[index] - 5*F[index+1] + 4*F[index+2] - F[index+3]) / (h**2)\n",
        "\n",
        "# Fourth derivative (f\"\")\n",
        "f_fourth_prime = (3*F[index] - 14*F[index+1] + 26*F[index+2] + 24*F[index+3] + 11*F[index+4]) / (h**4)\n",
        "\n",
        "# Result\n",
        "print(\"Second derivative at x = -1:\", f_double_prime)\n",
        "print(\"Fourth derivative at x = -1:\", f_fourth_prime)"
      ],
      "metadata": {
        "colab": {
          "base_uri": "https://localhost:8080/"
        },
        "id": "ezt-0q0mQcNM",
        "outputId": "41c46db1-33b4-48c6-ff99-f5cdb09774e4"
      },
      "execution_count": null,
      "outputs": [
        {
          "output_type": "stream",
          "name": "stdout",
          "text": [
            "Second derivative at x = -1: 0.3639999999999784\n",
            "Fourth derivative at x = -1: -95506.9000000001\n"
          ]
        }
      ]
    },
    {
      "cell_type": "code",
      "source": [
        "import numpy as np\n",
        "#3\n",
        "\n",
        "# Data Points\n",
        "X = np.array([-0.6, -0.59, -0.58, -0.57, -0.56])\n",
        "F = np.array([-0.09327, -0.06435, -0.0359, -0.00791, 0.01962])\n",
        "\n",
        "# Step size\n",
        "h = X[1] - X[0]\n",
        "\n",
        "# Fourth derivative (f\"\")\n",
        "x = -0.56\n",
        "index = np.where(X == x)[0][0]\n",
        "f_fourthprime = (-2*F[index] + 11*F[index-1] - 24*F[index-2] + 26*F[index-3] - 14*F[index-4]) / (h**4)\n",
        "\n",
        "# Result\n",
        "print(\"Fourth derivate at x = -0.56:\", f_fourthprime)"
      ],
      "metadata": {
        "colab": {
          "base_uri": "https://localhost:8080/"
        },
        "id": "xCtYYqezSYc_",
        "outputId": "b0c17bfa-6c02-4bbe-ebb3-e2a445580614"
      },
      "execution_count": null,
      "outputs": [
        {
          "output_type": "stream",
          "name": "stdout",
          "text": [
            "Fourth derivate at x = -0.56: 36802999.99999989\n"
          ]
        }
      ]
    },
    {
      "cell_type": "code",
      "source": [
        "import numpy as np\n",
        "#5\n",
        "\n",
        "# Data Points\n",
        "X = np.array([0.2, 0.4, 0.6, 0.8, 1])\n",
        "F = np.array([1.09495, 1.17976, 1.25435, 1.31882, 1.37337])\n",
        "\n",
        "# Step size\n",
        "h = X[1] - X[0]\n",
        "\n",
        "# Second derivative (f\"')\n",
        "x = 1\n",
        "index = np.where(X == x)[0][0]\n",
        "f_third_prime = (F[index] + 3*F[index-1] - 14*F[index-2] + 24*F[index-3] - 18*F[index-4]) / (2*h**3)\n",
        "# Fourth derivative (f\"\")\n",
        "f_fourth_prime = (-2*F[index] + 11*F[index-1] - 24*F[index-2] + 26*F[index-3] - 14*F[index-4]) / (h**4)\n",
        "\n",
        "# Result\n",
        "print(\"Second derivative at x = 1:\", f_third_prime)\n",
        "print(\"Fourth derivative at x = 1:\", f_fourth_prime)"
      ],
      "metadata": {
        "colab": {
          "base_uri": "https://localhost:8080/"
        },
        "id": "9gk7lJeLRMAm",
        "outputId": "28e7ac77-e4d5-48bf-8886-ed3aa57f82f5"
      },
      "execution_count": null,
      "outputs": [
        {
          "output_type": "stream",
          "name": "stdout",
          "text": [
            "Second derivative at x = 1: -226.6206250000002\n",
            "Fourth derivative at x = 1: -1874.7875000000022\n"
          ]
        }
      ]
    }
  ]
}